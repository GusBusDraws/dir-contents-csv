{
 "cells": [
  {
   "cell_type": "code",
   "execution_count": 1,
   "metadata": {},
   "outputs": [],
   "source": [
    "import os\n",
    "\n",
    "import numpy as np\n",
    "import pandas as pd"
   ]
  },
  {
   "cell_type": "code",
   "execution_count": 2,
   "metadata": {},
   "outputs": [],
   "source": [
    "def list_dir(dir_path, row, depth):\n",
    "    for item in os.listdir(dir_path):\n",
    "        \n",
    "        print(f'row: {row}')\n",
    "        print(f'depth: {depth}')\n",
    "        row += 1\n",
    "        nested_dir_path = os.path.join(dir_path, item)\n",
    "        if os.path.isdir(nested_dir_path):\n",
    "            print(f'dir: {item}')\n",
    "            print()\n",
    "            depth += 1\n",
    "            row, depth = list_dir(nested_dir_path, row, depth)\n",
    "        else:\n",
    "            print(f'file: {item}')\n",
    "            print()\n",
    "        \n",
    "    return row, depth"
   ]
  },
  {
   "cell_type": "code",
   "execution_count": 3,
   "metadata": {},
   "outputs": [
    {
     "name": "stdout",
     "output_type": "stream",
     "text": [
      "row: 0\n",
      "depth: 0\n",
      "file: blank-00.txt\n",
      "\n",
      "row: 1\n",
      "depth: 0\n",
      "file: blank-01.txt\n",
      "\n",
      "row: 2\n",
      "depth: 0\n",
      "dir: test-dir-01\n",
      "\n",
      "row: 3\n",
      "depth: 1\n",
      "file: blank-02.txt\n",
      "\n",
      "row: 4\n",
      "depth: 1\n",
      "file: blank-03.txt\n",
      "\n",
      "row: 5\n",
      "depth: 1\n",
      "dir: test-dir-02\n",
      "\n",
      "row: 6\n",
      "depth: 2\n",
      "file: blank-04.txt\n",
      "\n",
      "row: 7\n",
      "depth: 2\n",
      "file: blank-05.txt\n",
      "\n",
      "row: 8\n",
      "depth: 2\n",
      "file: blank-06.txt\n",
      "\n",
      "row: 9\n",
      "depth: 2\n",
      "dir: test-dir-03\n",
      "\n",
      "row: 10\n",
      "depth: 3\n",
      "file: blank-07.txt\n",
      "\n"
     ]
    },
    {
     "data": {
      "text/plain": [
       "(11, 3)"
      ]
     },
     "execution_count": 3,
     "metadata": {},
     "output_type": "execute_result"
    }
   ],
   "source": [
    "list_dir(r'..\\test-dir-00', 0, 0)"
   ]
  },
  {
   "cell_type": "code",
   "execution_count": 5,
   "metadata": {},
   "outputs": [],
   "source": [
    "dir_path = r'C:\\Users\\gusb\\Research\\dir-contents-csv\\test-dir-00'\n",
    "row = 0\n",
    "depth = 0"
   ]
  },
  {
   "cell_type": "code",
   "execution_count": 6,
   "metadata": {},
   "outputs": [
    {
     "name": "stdout",
     "output_type": "stream",
     "text": [
      "Help on built-in function listdir in module nt:\n",
      "\n",
      "listdir(path=None)\n",
      "    Return a list containing the names of the files in the directory.\n",
      "    \n",
      "    path can be specified as either str, bytes, or a path-like object.  If path is bytes,\n",
      "      the filenames returned will also be bytes; in all other circumstances\n",
      "      the filenames returned will be str.\n",
      "    If path is None, uses the path='.'.\n",
      "    On some platforms, path may also be specified as an open file descriptor;\\\n",
      "      the file descriptor must refer to a directory.\n",
      "      If this functionality is unavailable, using it raises NotImplementedError.\n",
      "    \n",
      "    The list is in arbitrary order.  It does not include the special\n",
      "    entries '.' and '..' even if they are present in the directory.\n",
      "\n"
     ]
    }
   ],
   "source": [
    "help(os.listdir)"
   ]
  },
  {
   "cell_type": "code",
   "execution_count": 11,
   "metadata": {},
   "outputs": [
    {
     "name": "stdout",
     "output_type": "stream",
     "text": [
      "['blank-00.txt', 'blank-01.txt', 'test-dir-01', 'test-dir-02']\n"
     ]
    }
   ],
   "source": [
    "print(os.listdir(dir_path))"
   ]
  },
  {
   "cell_type": "code",
   "execution_count": 12,
   "metadata": {},
   "outputs": [
    {
     "name": "stdout",
     "output_type": "stream",
     "text": [
      "['blank-00.txt', 'blank-01.txt', 'test-dir-01', 'test-dir-02']\n"
     ]
    }
   ],
   "source": [
    "dir_path = r'C:\\Users\\gusb\\Research\\dir-contents-csv\\test-dir-00'\n",
    "\n",
    "dir_list = os.listdir(dir_path)\n",
    "\n",
    "print(dir_list)"
   ]
  },
  {
   "cell_type": "code",
   "execution_count": 13,
   "metadata": {},
   "outputs": [
    {
     "name": "stdout",
     "output_type": "stream",
     "text": [
      "dir_list: ['blank-00.txt', 'blank-01.txt', 'test-dir-01', 'test-dir-02']\n",
      "len(dir_list): 4\n"
     ]
    }
   ],
   "source": [
    "dir_path = r'C:\\Users\\gusb\\Research\\dir-contents-csv\\test-dir-00'\n",
    "\n",
    "dir_list = os.listdir(dir_path)\n",
    "\n",
    "print(f'dir_list: {dir_list}')\n",
    "print(f'len(dir_list): {len(dir_list)}')"
   ]
  },
  {
   "cell_type": "code",
   "execution_count": 14,
   "metadata": {},
   "outputs": [
    {
     "name": "stdout",
     "output_type": "stream",
     "text": [
      "Help on class range in module builtins:\n",
      "\n",
      "class range(object)\n",
      " |  range(stop) -> range object\n",
      " |  range(start, stop[, step]) -> range object\n",
      " |  \n",
      " |  Return an object that produces a sequence of integers from start (inclusive)\n",
      " |  to stop (exclusive) by step.  range(i, j) produces i, i+1, i+2, ..., j-1.\n",
      " |  start defaults to 0, and stop is omitted!  range(4) produces 0, 1, 2, 3.\n",
      " |  These are exactly the valid indices for a list of 4 elements.\n",
      " |  When step is given, it specifies the increment (or decrement).\n",
      " |  \n",
      " |  Methods defined here:\n",
      " |  \n",
      " |  __bool__(self, /)\n",
      " |      self != 0\n",
      " |  \n",
      " |  __contains__(self, key, /)\n",
      " |      Return key in self.\n",
      " |  \n",
      " |  __eq__(self, value, /)\n",
      " |      Return self==value.\n",
      " |  \n",
      " |  __ge__(self, value, /)\n",
      " |      Return self>=value.\n",
      " |  \n",
      " |  __getattribute__(self, name, /)\n",
      " |      Return getattr(self, name).\n",
      " |  \n",
      " |  __getitem__(self, key, /)\n",
      " |      Return self[key].\n",
      " |  \n",
      " |  __gt__(self, value, /)\n",
      " |      Return self>value.\n",
      " |  \n",
      " |  __hash__(self, /)\n",
      " |      Return hash(self).\n",
      " |  \n",
      " |  __iter__(self, /)\n",
      " |      Implement iter(self).\n",
      " |  \n",
      " |  __le__(self, value, /)\n",
      " |      Return self<=value.\n",
      " |  \n",
      " |  __len__(self, /)\n",
      " |      Return len(self).\n",
      " |  \n",
      " |  __lt__(self, value, /)\n",
      " |      Return self<value.\n",
      " |  \n",
      " |  __ne__(self, value, /)\n",
      " |      Return self!=value.\n",
      " |  \n",
      " |  __reduce__(...)\n",
      " |      Helper for pickle.\n",
      " |  \n",
      " |  __repr__(self, /)\n",
      " |      Return repr(self).\n",
      " |  \n",
      " |  __reversed__(...)\n",
      " |      Return a reverse iterator.\n",
      " |  \n",
      " |  count(...)\n",
      " |      rangeobject.count(value) -> integer -- return number of occurrences of value\n",
      " |  \n",
      " |  index(...)\n",
      " |      rangeobject.index(value) -> integer -- return index of value.\n",
      " |      Raise ValueError if the value is not present.\n",
      " |  \n",
      " |  ----------------------------------------------------------------------\n",
      " |  Static methods defined here:\n",
      " |  \n",
      " |  __new__(*args, **kwargs) from builtins.type\n",
      " |      Create and return a new object.  See help(type) for accurate signature.\n",
      " |  \n",
      " |  ----------------------------------------------------------------------\n",
      " |  Data descriptors defined here:\n",
      " |  \n",
      " |  start\n",
      " |  \n",
      " |  step\n",
      " |  \n",
      " |  stop\n",
      "\n"
     ]
    }
   ],
   "source": [
    "help(range)"
   ]
  },
  {
   "cell_type": "code",
   "execution_count": 16,
   "metadata": {},
   "outputs": [
    {
     "name": "stdout",
     "output_type": "stream",
     "text": [
      "dir_list: ['blank-00.txt', 'blank-01.txt', 'test-dir-01', 'test-dir-02']\n",
      "len(dir_list): 4\n",
      "range(0, 4)\n",
      "0\n",
      "1\n",
      "2\n",
      "3\n"
     ]
    }
   ],
   "source": [
    "dir_path = r'C:\\Users\\gusb\\Research\\dir-contents-csv\\test-dir-00'\n",
    "\n",
    "dir_list = os.listdir(dir_path)\n",
    "\n",
    "print(f'dir_list: {dir_list}')\n",
    "print(f'len(dir_list): {len(dir_list)}')\n",
    "print(range(len(dir_list)))\n",
    "\n",
    "for i in range(len(dir_list)):\n",
    "    print(i)"
   ]
  },
  {
   "cell_type": "code",
   "execution_count": 17,
   "metadata": {},
   "outputs": [
    {
     "name": "stdout",
     "output_type": "stream",
     "text": [
      "dir_list: ['blank-00.txt', 'blank-01.txt', 'test-dir-01', 'test-dir-02']\n",
      "blank-00.txt\n"
     ]
    }
   ],
   "source": [
    "dir_path = r'C:\\Users\\gusb\\Research\\dir-contents-csv\\test-dir-00'\n",
    "dir_list = os.listdir(dir_path)\n",
    "print(f'dir_list: {dir_list}')\n",
    "\n",
    "print(dir_list[0])"
   ]
  },
  {
   "cell_type": "code",
   "execution_count": 21,
   "metadata": {},
   "outputs": [
    {
     "name": "stdout",
     "output_type": "stream",
     "text": [
      "dir_list: ['blank-00.txt', 'blank-01.txt', 'test-dir-01', 'test-dir-02']\n",
      "len(dir_list): 4\n",
      "range(0, 4)\n",
      "\n",
      "i: 0\n",
      "blank-00.txt\n",
      "\n",
      "i: 1\n",
      "blank-01.txt\n",
      "\n",
      "i: 2\n",
      "test-dir-01\n",
      "\n",
      "i: 3\n",
      "test-dir-02\n"
     ]
    }
   ],
   "source": [
    "dir_path = r'C:\\Users\\gusb\\Research\\dir-contents-csv\\test-dir-00'\n",
    "\n",
    "dir_list = os.listdir(dir_path)\n",
    "\n",
    "print(f'dir_list: {dir_list}')\n",
    "print(f'len(dir_list): {len(dir_list)}')\n",
    "print(range(len(dir_list)))\n",
    "\n",
    "for i in range(len(dir_list)):\n",
    "    print()\n",
    "    print(f'i: {i}')\n",
    "    print(dir_list[i])"
   ]
  },
  {
   "cell_type": "code",
   "execution_count": 23,
   "metadata": {
    "scrolled": true
   },
   "outputs": [
    {
     "name": "stdout",
     "output_type": "stream",
     "text": [
      "dir_list: ['blank-00.txt', 'blank-01.txt', 'test-dir-01', 'test-dir-02']\n",
      "len(dir_list): 4\n",
      "range(0, 4)\n",
      "\n",
      "blank-00.txt\n",
      "b\n",
      "l\n",
      "a\n",
      "n\n",
      "k\n",
      "-\n",
      "0\n",
      "0\n",
      ".\n",
      "t\n",
      "x\n",
      "t\n",
      "\n",
      "blank-01.txt\n",
      "b\n",
      "l\n",
      "a\n",
      "n\n",
      "k\n",
      "-\n",
      "0\n",
      "1\n",
      ".\n",
      "t\n",
      "x\n",
      "t\n",
      "\n",
      "test-dir-01\n",
      "t\n",
      "e\n",
      "s\n",
      "t\n",
      "-\n",
      "d\n",
      "i\n",
      "r\n",
      "-\n",
      "0\n",
      "1\n",
      "\n",
      "test-dir-02\n",
      "t\n",
      "e\n",
      "s\n",
      "t\n",
      "-\n",
      "d\n",
      "i\n",
      "r\n",
      "-\n",
      "0\n",
      "2\n"
     ]
    }
   ],
   "source": [
    "dir_path = r'C:\\Users\\gusb\\Research\\dir-contents-csv\\test-dir-00'\n",
    "# Build a list out of the listed elements in the directory denoted by dir_path\n",
    "dir_list = os.listdir(dir_path)\n",
    "\n",
    "print(f'dir_list: {dir_list}')\n",
    "print(f'len(dir_list): {len(dir_list)}')\n",
    "print(range(len(dir_list)))\n",
    "\n",
    "# Iterate through the items in the list\n",
    "for item in dir_list:\n",
    "    print()\n",
    "    print(item)\n",
    "    # Iterate through the characters (char) in the item\n",
    "    for char in item:\n",
    "        print(char)"
   ]
  },
  {
   "cell_type": "code",
   "execution_count": 25,
   "metadata": {},
   "outputs": [
    {
     "name": "stdout",
     "output_type": "stream",
     "text": [
      "Help on function isdir in module genericpath:\n",
      "\n",
      "isdir(s)\n",
      "    Return true if the pathname refers to an existing directory.\n",
      "\n"
     ]
    }
   ],
   "source": [
    "help(os.path.isdir)"
   ]
  },
  {
   "cell_type": "code",
   "execution_count": 26,
   "metadata": {},
   "outputs": [
    {
     "name": "stdout",
     "output_type": "stream",
     "text": [
      "True\n"
     ]
    }
   ],
   "source": [
    "dir_path = r'C:\\Users\\gusb\\Research\\dir-contents-csv\\test-dir-00'\n",
    "print(os.path.isdir(dir_path))"
   ]
  },
  {
   "cell_type": "code",
   "execution_count": 28,
   "metadata": {},
   "outputs": [
    {
     "name": "stdout",
     "output_type": "stream",
     "text": [
      "\n",
      "item: blank-00.txt\n",
      "directory?: False\n",
      "\n",
      "item: blank-01.txt\n",
      "directory?: False\n",
      "\n",
      "item: test-dir-01\n",
      "directory?: False\n",
      "\n",
      "item: test-dir-02\n",
      "directory?: False\n"
     ]
    }
   ],
   "source": [
    "dir_path = r'C:\\Users\\gusb\\Research\\dir-contents-csv\\test-dir-00'\n",
    "# Build a list out of the listed elements in the directory denoted by dir_path\n",
    "dir_list = os.listdir(dir_path)\n",
    "\n",
    "# Iterate through the items in the list\n",
    "for item in dir_list:\n",
    "    print()\n",
    "    print(f'item: {item}')\n",
    "    print(f'directory?: {os.path.isdir(item)}')"
   ]
  },
  {
   "cell_type": "code",
   "execution_count": 29,
   "metadata": {},
   "outputs": [
    {
     "name": "stdout",
     "output_type": "stream",
     "text": [
      "Help on function join in module ntpath:\n",
      "\n",
      "join(path, *paths)\n",
      "    # Join two (or more) paths.\n",
      "\n"
     ]
    }
   ],
   "source": [
    "help(os.path.join)"
   ]
  },
  {
   "cell_type": "code",
   "execution_count": 33,
   "metadata": {},
   "outputs": [
    {
     "name": "stdout",
     "output_type": "stream",
     "text": [
      "\n",
      "item: blank-00.txt\n",
      "item_path: C:\\Users\\gusb\\Research\\dir-contents-csv\\test-dir-00\\blank-00.txt\n",
      "directory?: False\n",
      "\n",
      "item: blank-01.txt\n",
      "item_path: C:\\Users\\gusb\\Research\\dir-contents-csv\\test-dir-00\\blank-01.txt\n",
      "directory?: False\n",
      "\n",
      "item: test-dir-01\n",
      "item_path: C:\\Users\\gusb\\Research\\dir-contents-csv\\test-dir-00\\test-dir-01\n",
      "directory?: True\n",
      "\n",
      "item: test-dir-02\n",
      "item_path: C:\\Users\\gusb\\Research\\dir-contents-csv\\test-dir-00\\test-dir-02\n",
      "directory?: True\n"
     ]
    }
   ],
   "source": [
    "dir_path = r'C:\\Users\\gusb\\Research\\dir-contents-csv\\test-dir-00'\n",
    "# Build a list out of the listed elements in the directory denoted by dir_path\n",
    "dir_list = os.listdir(dir_path)\n",
    "\n",
    "# Iterate through the items in the list\n",
    "for item in dir_list:\n",
    "    print()\n",
    "    print(f'item: {item}')\n",
    "    item_path = os.path.join(dir_path, item)\n",
    "    print(f'item_path: {item_path}')\n",
    "    print(f'directory?: {os.path.isdir(item_path)}')"
   ]
  },
  {
   "cell_type": "code",
   "execution_count": 34,
   "metadata": {},
   "outputs": [],
   "source": [
    "def print_dir_contents(dir_path):\n",
    "    # Build a list out of the listed elements in the directory denoted by dir_path\n",
    "    dir_list = os.listdir(dir_path)\n",
    "\n",
    "    # Iterate through the items in the list\n",
    "    for item in dir_list:\n",
    "        print()\n",
    "        print(f'item: {item}')\n",
    "        item_path = os.path.join(dir_path, item)\n",
    "        print(f'item_path: {item_path}')\n",
    "        print(f'directory?: {os.path.isdir(item_path)}')"
   ]
  },
  {
   "cell_type": "code",
   "execution_count": 35,
   "metadata": {},
   "outputs": [
    {
     "name": "stdout",
     "output_type": "stream",
     "text": [
      "\n",
      "item: blank-00.txt\n",
      "item_path: C:\\Users\\gusb\\Research\\dir-contents-csv\\test-dir-00\\blank-00.txt\n",
      "directory?: False\n",
      "\n",
      "item: blank-01.txt\n",
      "item_path: C:\\Users\\gusb\\Research\\dir-contents-csv\\test-dir-00\\blank-01.txt\n",
      "directory?: False\n",
      "\n",
      "item: test-dir-01\n",
      "item_path: C:\\Users\\gusb\\Research\\dir-contents-csv\\test-dir-00\\test-dir-01\n",
      "directory?: True\n",
      "\n",
      "item: test-dir-02\n",
      "item_path: C:\\Users\\gusb\\Research\\dir-contents-csv\\test-dir-00\\test-dir-02\n",
      "directory?: True\n"
     ]
    }
   ],
   "source": [
    "print_dir_contents(r'C:\\Users\\gusb\\Research\\dir-contents-csv\\test-dir-00')"
   ]
  },
  {
   "cell_type": "code",
   "execution_count": 48,
   "metadata": {},
   "outputs": [],
   "source": [
    "def print_dir_contents_1(dir_path):\n",
    "    # Build a list out of the listed elements in the directory denoted by dir_path\n",
    "    dir_list = os.listdir(dir_path)\n",
    "\n",
    "    # Iterate through the items in the list\n",
    "    for item in dir_list:\n",
    "        print()\n",
    "        print(f'item: {item}')\n",
    "        item_path = os.path.join(dir_path, item)\n",
    "        print(f'item_path: {item_path}')\n",
    "        item_is_dir = os.path.isdir(item_path)\n",
    "        print(f'directory?: {item_is_dir}')\n",
    "        \n",
    "        if item_is_dir is True:\n",
    "            print_dir_contents_1(item_path)\n",
    "        else:\n",
    "            pass"
   ]
  },
  {
   "cell_type": "code",
   "execution_count": 49,
   "metadata": {},
   "outputs": [
    {
     "name": "stdout",
     "output_type": "stream",
     "text": [
      "\n",
      "item: blank-00.txt\n",
      "item_path: C:\\Users\\gusb\\Research\\dir-contents-csv\\test-dir-00\\blank-00.txt\n",
      "directory?: False\n",
      "\n",
      "item: blank-01.txt\n",
      "item_path: C:\\Users\\gusb\\Research\\dir-contents-csv\\test-dir-00\\blank-01.txt\n",
      "directory?: False\n",
      "\n",
      "item: test-dir-01\n",
      "item_path: C:\\Users\\gusb\\Research\\dir-contents-csv\\test-dir-00\\test-dir-01\n",
      "directory?: True\n",
      "\n",
      "item: blank-02.txt\n",
      "item_path: C:\\Users\\gusb\\Research\\dir-contents-csv\\test-dir-00\\test-dir-01\\blank-02.txt\n",
      "directory?: False\n",
      "\n",
      "item: blank-03.txt\n",
      "item_path: C:\\Users\\gusb\\Research\\dir-contents-csv\\test-dir-00\\test-dir-01\\blank-03.txt\n",
      "directory?: False\n",
      "\n",
      "item: test-dir-02\n",
      "item_path: C:\\Users\\gusb\\Research\\dir-contents-csv\\test-dir-00\\test-dir-02\n",
      "directory?: True\n",
      "\n",
      "item: blank-04.txt\n",
      "item_path: C:\\Users\\gusb\\Research\\dir-contents-csv\\test-dir-00\\test-dir-02\\blank-04.txt\n",
      "directory?: False\n",
      "\n",
      "item: blank-05.txt\n",
      "item_path: C:\\Users\\gusb\\Research\\dir-contents-csv\\test-dir-00\\test-dir-02\\blank-05.txt\n",
      "directory?: False\n",
      "\n",
      "item: blank-06.txt\n",
      "item_path: C:\\Users\\gusb\\Research\\dir-contents-csv\\test-dir-00\\test-dir-02\\blank-06.txt\n",
      "directory?: False\n",
      "\n",
      "item: test-dir-03\n",
      "item_path: C:\\Users\\gusb\\Research\\dir-contents-csv\\test-dir-00\\test-dir-02\\test-dir-03\n",
      "directory?: True\n",
      "\n",
      "item: blank-07.txt\n",
      "item_path: C:\\Users\\gusb\\Research\\dir-contents-csv\\test-dir-00\\test-dir-02\\test-dir-03\\blank-07.txt\n",
      "directory?: False\n"
     ]
    }
   ],
   "source": [
    "print_dir_contents_1(r'C:\\Users\\gusb\\Research\\dir-contents-csv\\test-dir-00')"
   ]
  },
  {
   "cell_type": "code",
   "execution_count": 4,
   "metadata": {},
   "outputs": [
    {
     "ename": "NameError",
     "evalue": "name 'dir_path' is not defined",
     "output_type": "error",
     "traceback": [
      "\u001b[1;31m---------------------------------------------------------------------------\u001b[0m",
      "\u001b[1;31mNameError\u001b[0m                                 Traceback (most recent call last)",
      "\u001b[1;32m<ipython-input-4-ab24b917c066>\u001b[0m in \u001b[0;36m<module>\u001b[1;34m\u001b[0m\n\u001b[1;32m----> 1\u001b[1;33m \u001b[1;32mfor\u001b[0m \u001b[0mitem\u001b[0m \u001b[1;32min\u001b[0m \u001b[0mos\u001b[0m\u001b[1;33m.\u001b[0m\u001b[0mlistdir\u001b[0m\u001b[1;33m(\u001b[0m\u001b[0mdir_path\u001b[0m\u001b[1;33m)\u001b[0m\u001b[1;33m:\u001b[0m\u001b[1;33m\u001b[0m\u001b[1;33m\u001b[0m\u001b[0m\n\u001b[0m\u001b[0;32m      2\u001b[0m \u001b[1;33m\u001b[0m\u001b[0m\n\u001b[0;32m      3\u001b[0m     \u001b[0mprint\u001b[0m\u001b[1;33m(\u001b[0m\u001b[1;34mf'row: {row}'\u001b[0m\u001b[1;33m)\u001b[0m\u001b[1;33m\u001b[0m\u001b[1;33m\u001b[0m\u001b[0m\n\u001b[0;32m      4\u001b[0m     \u001b[0mprint\u001b[0m\u001b[1;33m(\u001b[0m\u001b[1;34mf'depth: {depth}'\u001b[0m\u001b[1;33m)\u001b[0m\u001b[1;33m\u001b[0m\u001b[1;33m\u001b[0m\u001b[0m\n\u001b[0;32m      5\u001b[0m     \u001b[0mrow\u001b[0m \u001b[1;33m+=\u001b[0m \u001b[1;36m1\u001b[0m\u001b[1;33m\u001b[0m\u001b[1;33m\u001b[0m\u001b[0m\n",
      "\u001b[1;31mNameError\u001b[0m: name 'dir_path' is not defined"
     ]
    }
   ],
   "source": [
    "for item in os.listdir(dir_path):\n",
    "        \n",
    "    print(f'row: {row}')\n",
    "    print(f'depth: {depth}')\n",
    "    row += 1\n",
    "    nested_dir_path = os.path.join(dir_path, item)\n",
    "    if os.path.isdir(nested_dir_path):\n",
    "        print(f'dir: {item}')\n",
    "        print()\n",
    "        depth += 1\n",
    "        row, depth = list_dir(nested_dir_path, row, depth)\n",
    "    else:\n",
    "        print(f'file: {item}')\n",
    "        print()\n",
    "\n",
    "return row, depth"
   ]
  },
  {
   "cell_type": "code",
   "execution_count": null,
   "metadata": {},
   "outputs": [],
   "source": [
    "def get_a_dims(dir_path, row=0, depth=0):\n",
    "        \n",
    "    for item in os.listdir(dir_path):\n",
    "        \n",
    "        row += 1\n",
    "        nested_dir_path = os.path.join(dir_path, item)\n",
    "        if os.path.isdir(nested_dir_path):\n",
    "            depth += 1\n",
    "            row, depth = get_a_dims(nested_dir_path, row=row, depth=depth)\n",
    "        \n",
    "    return row, depth\n",
    "        "
   ]
  },
  {
   "cell_type": "code",
   "execution_count": null,
   "metadata": {},
   "outputs": [],
   "source": [
    "rows, cols = get_a_dims(r'..\\test-dir-00')\n",
    "print(rows, cols)"
   ]
  },
  {
   "cell_type": "code",
   "execution_count": null,
   "metadata": {},
   "outputs": [],
   "source": [
    "def get_dir_array(dir_path):\n",
    "    def get_contents(dir_path, n_rows=0, n_cols=0, depth=0, a=None):\n",
    "        for item in os.listdir(dir_path):\n",
    "            if a is not None:\n",
    "                a[n_rows, depth] = item\n",
    "            n_rows += 1\n",
    "            nested_dir_path = os.path.join(dir_path, item)\n",
    "            if os.path.isdir(nested_dir_path):\n",
    "                n_cols += 1\n",
    "                depth += 1\n",
    "                if a is not None:\n",
    "                    a[n_rows, depth] = item\n",
    "                n_rows, n_cols, depth = get_contents(\n",
    "                    nested_dir_path, n_rows=n_rows, n_cols=n_cols, depth=depth, a=a)\n",
    "                depth -= 1\n",
    "                \n",
    "        return n_rows, n_cols, depth\n",
    "\n",
    "    rows, cols, depth = get_contents(dir_path)\n",
    "    print(f'rows, cols: {rows}, {cols}')\n",
    "    a = np.full((rows + 1, cols + 1), np.nan).astype('object')\n",
    "    a[0, 0] = dir_path\n",
    "    rows, cols, depth = get_contents(dir_path, n_rows=1, n_cols=1, depth=1, a=a)\n",
    "    \n",
    "    df = pd.DataFrame(data=a)\n",
    "    print(df)\n",
    "    \n",
    "get_dir_array(r'..\\test-dir-00')"
   ]
  },
  {
   "cell_type": "code",
   "execution_count": null,
   "metadata": {},
   "outputs": [],
   "source": []
  }
 ],
 "metadata": {
  "kernelspec": {
   "display_name": "Python 3",
   "language": "python",
   "name": "python3"
  },
  "language_info": {
   "codemirror_mode": {
    "name": "ipython",
    "version": 3
   },
   "file_extension": ".py",
   "mimetype": "text/x-python",
   "name": "python",
   "nbconvert_exporter": "python",
   "pygments_lexer": "ipython3",
   "version": "3.8.3"
  }
 },
 "nbformat": 4,
 "nbformat_minor": 4
}
