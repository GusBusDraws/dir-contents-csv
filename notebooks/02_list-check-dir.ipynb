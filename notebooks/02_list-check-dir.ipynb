{
 "cells": [
  {
   "cell_type": "code",
   "execution_count": 1,
   "metadata": {},
   "outputs": [],
   "source": [
    "import os\n",
    "\n",
    "import numpy as np\n",
    "import pandas as pd"
   ]
  },
  {
   "cell_type": "code",
   "execution_count": 77,
   "metadata": {},
   "outputs": [],
   "source": [
    "def list_dir(dir_path, row, depth):\n",
    "    for item in os.listdir(dir_path):\n",
    "        \n",
    "        print(f'row: {row}')\n",
    "        print(f'depth: {depth}')\n",
    "        row += 1\n",
    "        nested_dir_path = os.path.join(dir_path, item)\n",
    "        if os.path.isdir(nested_dir_path):\n",
    "            print(f'dir: {item}')\n",
    "            print()\n",
    "            depth += 1\n",
    "            row, depth = list_dir(nested_dir_path, row, depth)\n",
    "        else:\n",
    "            print(f'file: {item}')\n",
    "            print()\n",
    "        \n",
    "    return row, depth"
   ]
  },
  {
   "cell_type": "code",
   "execution_count": 78,
   "metadata": {},
   "outputs": [
    {
     "name": "stdout",
     "output_type": "stream",
     "text": [
      "row: 0\n",
      "depth: 0\n",
      "file: blank-00.txt\n",
      "\n",
      "row: 1\n",
      "depth: 0\n",
      "file: blank-01.txt\n",
      "\n",
      "row: 2\n",
      "depth: 0\n",
      "dir: test-dir-01\n",
      "\n",
      "row: 3\n",
      "depth: 1\n",
      "file: blank-02.txt\n",
      "\n",
      "row: 4\n",
      "depth: 1\n",
      "file: blank-03.txt\n",
      "\n",
      "row: 5\n",
      "depth: 1\n",
      "dir: test-dir-02\n",
      "\n",
      "row: 6\n",
      "depth: 2\n",
      "file: blank-04.txt\n",
      "\n",
      "row: 7\n",
      "depth: 2\n",
      "file: blank-05.txt\n",
      "\n",
      "row: 8\n",
      "depth: 2\n",
      "file: blank-06.txt\n",
      "\n",
      "row: 9\n",
      "depth: 2\n",
      "dir: test-dir-03\n",
      "\n",
      "row: 10\n",
      "depth: 3\n",
      "file: blank-07.txt\n",
      "\n"
     ]
    },
    {
     "data": {
      "text/plain": [
       "(11, 3)"
      ]
     },
     "execution_count": 78,
     "metadata": {},
     "output_type": "execute_result"
    }
   ],
   "source": [
    "list_dir(r'..\\test-dir-00', 0, 0)"
   ]
  },
  {
   "cell_type": "code",
   "execution_count": 73,
   "metadata": {},
   "outputs": [],
   "source": [
    "def get_a_dims(dir_path, row=0, depth=0):\n",
    "        \n",
    "    for item in os.listdir(dir_path):\n",
    "        \n",
    "        row += 1\n",
    "        nested_dir_path = os.path.join(dir_path, item)\n",
    "        if os.path.isdir(nested_dir_path):\n",
    "            depth += 1\n",
    "            row, depth = get_a_dims(nested_dir_path, row=row, depth=depth)\n",
    "        \n",
    "    return row, depth\n",
    "        "
   ]
  },
  {
   "cell_type": "code",
   "execution_count": 74,
   "metadata": {},
   "outputs": [
    {
     "name": "stdout",
     "output_type": "stream",
     "text": [
      "11 3\n"
     ]
    }
   ],
   "source": [
    "rows, cols = get_a_dims(r'..\\test-dir-00')\n",
    "print(rows, cols)"
   ]
  },
  {
   "cell_type": "code",
   "execution_count": 117,
   "metadata": {},
   "outputs": [
    {
     "name": "stdout",
     "output_type": "stream",
     "text": [
      "rows, cols: 11, 3\n",
      "                 0             1             2             3\n",
      "0   ..\\test-dir-00           NaN           NaN           NaN\n",
      "1              NaN  blank-00.txt           NaN           NaN\n",
      "2              NaN  blank-01.txt           NaN           NaN\n",
      "3              NaN   test-dir-01           NaN           NaN\n",
      "4              NaN           NaN  blank-02.txt           NaN\n",
      "5              NaN           NaN  blank-03.txt           NaN\n",
      "6              NaN   test-dir-02           NaN           NaN\n",
      "7              NaN           NaN  blank-04.txt           NaN\n",
      "8              NaN           NaN  blank-05.txt           NaN\n",
      "9              NaN           NaN  blank-06.txt           NaN\n",
      "10             NaN           NaN   test-dir-03           NaN\n",
      "11             NaN           NaN           NaN  blank-07.txt\n"
     ]
    }
   ],
   "source": [
    "def get_dir_array(dir_path):\n",
    "    def get_contents(dir_path, n_rows=0, n_cols=0, depth=0, a=None):\n",
    "        for item in os.listdir(dir_path):\n",
    "            if a is not None:\n",
    "                a[n_rows, depth] = item\n",
    "            n_rows += 1\n",
    "            nested_dir_path = os.path.join(dir_path, item)\n",
    "            if os.path.isdir(nested_dir_path):\n",
    "                n_cols += 1\n",
    "                depth += 1\n",
    "                if a is not None:\n",
    "                    a[n_rows, depth] = item\n",
    "                n_rows, n_cols, depth = get_contents(\n",
    "                    nested_dir_path, n_rows=n_rows, n_cols=n_cols, depth=depth, a=a)\n",
    "                depth -= 1\n",
    "                \n",
    "        return n_rows, n_cols, depth\n",
    "\n",
    "    rows, cols, depth = get_contents(dir_path)\n",
    "    print(f'rows, cols: {rows}, {cols}')\n",
    "    a = np.full((rows + 1, cols + 1), np.nan).astype('object')\n",
    "    a[0, 0] = dir_path\n",
    "    rows, cols, depth = get_contents(dir_path, n_rows=1, n_cols=1, depth=1, a=a)\n",
    "    \n",
    "    df = pd.DataFrame(data=a)\n",
    "    print(df)\n",
    "    \n",
    "get_dir_array(r'..\\test-dir-00')"
   ]
  },
  {
   "cell_type": "code",
   "execution_count": null,
   "metadata": {},
   "outputs": [],
   "source": []
  }
 ],
 "metadata": {
  "kernelspec": {
   "display_name": "Python 3",
   "language": "python",
   "name": "python3"
  },
  "language_info": {
   "codemirror_mode": {
    "name": "ipython",
    "version": 3
   },
   "file_extension": ".py",
   "mimetype": "text/x-python",
   "name": "python",
   "nbconvert_exporter": "python",
   "pygments_lexer": "ipython3",
   "version": "3.7.6"
  }
 },
 "nbformat": 4,
 "nbformat_minor": 4
}
