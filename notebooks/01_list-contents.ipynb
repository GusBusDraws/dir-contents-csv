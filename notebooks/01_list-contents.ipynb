{
 "cells": [
  {
   "cell_type": "code",
   "execution_count": 14,
   "metadata": {},
   "outputs": [],
   "source": [
    "import os\n",
    "\n",
    "import numpy as np\n",
    "import pandas as pd"
   ]
  },
  {
   "cell_type": "code",
   "execution_count": 11,
   "metadata": {},
   "outputs": [],
   "source": [
    "def list_all_files(start_path):\n",
    "    tot_items = 0\n",
    "    for dir_path, dir_names, filenames in os.walk(start_path):\n",
    "        print()\n",
    "        print(dir_path)\n",
    "        print(dir_names)\n",
    "        print(filenames)\n",
    "        tot_items += len(dir_names) + len(filenames)\n",
    "    \n",
    "    print()\n",
    "    print(f'Total items: {tot_items}')"
   ]
  },
  {
   "cell_type": "code",
   "execution_count": 12,
   "metadata": {},
   "outputs": [
    {
     "name": "stdout",
     "output_type": "stream",
     "text": [
      "\n",
      "C:\\Users\\gusb\\Research\\al-ag\n",
      "['notebooks', 'results']\n",
      "['.gitignore', 'README.md', 'todo.md']\n",
      "\n",
      "C:\\Users\\gusb\\Research\\al-ag\\notebooks\n",
      "['.ipynb_checkpoints']\n",
      "['01_2014-08_APS_033_animate.ipynb', '02_2014-08_APS_034_animate.ipynb', '03_2014-08_APS_035_animate.ipynb', '04_2015-09_AET_processing-dev.ipynb', '05_2015-09_AET_013-proc-dev.ipynb', '06_2015-09_AET_013-animate.ipynb']\n",
      "\n",
      "C:\\Users\\gusb\\Research\\al-ag\\notebooks\\.ipynb_checkpoints\n",
      "[]\n",
      "['01_2014-08_APS_033_animate-checkpoint.ipynb', '02_2014-08_APS_034_animate-checkpoint.ipynb', '03_2014-08_APS_035_animate-checkpoint.ipynb', '04_2015-09_AET_processing-dev-checkpoint.ipynb', '05_2015-09_AET_013-proc-dev-checkpoint.ipynb', '06_2015-09_AET_013-animate-checkpoint.ipynb']\n",
      "\n",
      "C:\\Users\\gusb\\Research\\al-ag\\results\n",
      "[]\n",
      "['2014-08_APS_033_sub2859_2860-2952-1_10fps.mp4', '2014-08_APS_034_sub2829_2830-2920-1_10fps.mp4', '2014-08_APS_035_sub3099_3100-3230-1_10fps.mp4', '2014-08_APS_035_sub3099_3100-3700-3_10fps.mp4', '2015-09_AET_013_crop_sub1199_eq_fft_1340-2501-10_10fps.mp4', '2015-09_AET_013_crop_sub1199_eq_fft_1340-4001-50_10fps.mp4']\n",
      "\n",
      "Total items: 24\n"
     ]
    }
   ],
   "source": [
    "list_all_files(r'C:\\Users\\gusb\\Research\\al-ag')"
   ]
  },
  {
   "cell_type": "code",
   "execution_count": 21,
   "metadata": {},
   "outputs": [],
   "source": [
    "def get_dir_size(start_path, units='bytes'):\n",
    "    total_size = 0\n",
    "    for dir_path, dir_names, filenames in os.walk(start_path):\n",
    "        for fn in filenames:\n",
    "            fn_path = os.path.join(dir_path, fn)\n",
    "            total_size += os.path.getsize(fn_path)\n",
    "            \n",
    "    if units.lower() == 'bytes' or units.lower() == 'b':\n",
    "        return total_size\n",
    "    elif units.lower() == 'kilobytes' or units.lower() == 'kb':\n",
    "        return total_size / 1024\n",
    "    elif units.lower() == 'megabytes' or units.lower() == 'mb':\n",
    "        return total_size / 1024 / 1024\n",
    "    elif units.lower() == 'gigabytes' or units.lower() == 'gb':\n",
    "        return total_size / 1024 / 1024 / 1024"
   ]
  },
  {
   "cell_type": "code",
   "execution_count": 22,
   "metadata": {},
   "outputs": [
    {
     "data": {
      "text/plain": [
       "732.1969060897827"
      ]
     },
     "execution_count": 22,
     "metadata": {},
     "output_type": "execute_result"
    }
   ],
   "source": [
    "get_dir_size(r'C:\\Users\\gusb\\Research\\al-ag', units='mb')"
   ]
  },
  {
   "cell_type": "code",
   "execution_count": 13,
   "metadata": {},
   "outputs": [
    {
     "name": "stdout",
     "output_type": "stream",
     "text": [
      "\n",
      "C:\\Users\\gusb\\Research\\test_dir\n",
      "['test_dir_01', 'test_dir_03']\n",
      "['2020-11-08_dist-and-vel.csv', '2020-11-09_dist-and-vel.csv', 'coefs.csv', 'dist.csv', 'dist_and_vel.csv', 'int.csv']\n",
      "\n",
      "C:\\Users\\gusb\\Research\\test_dir\\test_dir_01\n",
      "['test_dir_02']\n",
      "['blank-00.txt', 'blank-01.txt']\n",
      "\n",
      "C:\\Users\\gusb\\Research\\test_dir\\test_dir_01\\test_dir_02\n",
      "[]\n",
      "['blank-02.txt']\n",
      "\n",
      "C:\\Users\\gusb\\Research\\test_dir\\test_dir_03\n",
      "['test_dir_04']\n",
      "['blank-03.txt', 'blank-04.txt', 'blank-05.txt']\n",
      "\n",
      "C:\\Users\\gusb\\Research\\test_dir\\test_dir_03\\test_dir_04\n",
      "[]\n",
      "['blank-06.txt']\n",
      "\n",
      "Total items: 17\n"
     ]
    }
   ],
   "source": [
    "list_all_files(r'C:\\Users\\gusb\\Research\\test_dir')"
   ]
  },
  {
   "cell_type": "code",
   "execution_count": 21,
   "metadata": {},
   "outputs": [],
   "source": [
    "def make_item_dict(start_path):\n",
    "    \n",
    "    depth = 0\n",
    "    file_dict = {}\n",
    "    dir_dict = {}\n",
    "    dir_dict[depth] = [start_path]\n",
    "    tot_items = 0\n",
    "    for dir_path, dir_names, filenames in os.walk(start_path):\n",
    "        depth += 1\n",
    "        dir_dict[depth] = [dir_names]\n",
    "        file_dict[depth] = [filenames]\n",
    "        tot_items += len(dir_names) + len(filenames)\n",
    "        \n",
    "    print('dir_dict:')\n",
    "    print(dir_dict)\n",
    "    print('file_dict:')\n",
    "    print(file_dict)"
   ]
  },
  {
   "cell_type": "code",
   "execution_count": 22,
   "metadata": {},
   "outputs": [
    {
     "name": "stdout",
     "output_type": "stream",
     "text": [
      "dir_dict:\n",
      "{0: ['C:\\\\Users\\\\gusb\\\\Research\\\\test_dir'], 1: [['test_dir_01', 'test_dir_03']], 2: [['test_dir_02']], 3: [[]], 4: [['test_dir_04']], 5: [[]]}\n",
      "file_dict:\n",
      "{1: [['2020-11-08_dist-and-vel.csv', '2020-11-09_dist-and-vel.csv', 'coefs.csv', 'dist.csv', 'dist_and_vel.csv', 'int.csv']], 2: [['blank-00.txt', 'blank-01.txt']], 3: [['blank-02.txt']], 4: [['blank-03.txt', 'blank-04.txt', 'blank-05.txt']], 5: [['blank-06.txt']]}\n"
     ]
    }
   ],
   "source": [
    "make_item_dict(r'C:\\Users\\gusb\\Research\\test_dir')"
   ]
  },
  {
   "cell_type": "code",
   "execution_count": 19,
   "metadata": {},
   "outputs": [
    {
     "name": "stdout",
     "output_type": "stream",
     "text": [
      "[[nan nan nan]\n",
      " [nan nan nan]\n",
      " [nan nan nan]]\n"
     ]
    }
   ],
   "source": [
    "a = np.empty((3, 3))\n",
    "a[:] = np.nan\n",
    "print(a)"
   ]
  },
  {
   "cell_type": "code",
   "execution_count": null,
   "metadata": {},
   "outputs": [],
   "source": [
    "def make_item_array(start_path):\n",
    "    \n",
    "    depth = 0\n",
    "    file_dict = {}\n",
    "    dir_dict = {}\n",
    "    dir_dict{depth} = [start_path]\n",
    "    tot_items = 0\n",
    "    for dir_path, dir_names, filenames in os.walk(start_path):\n",
    "        depth += 1\n",
    "        dir_dict{depth} = [dir_names]\n",
    "        file_dict{depth} = [filenames]\n",
    "        tot_items += len(dir_names) + len(filenames)\n",
    "\n",
    "    # Array size accurately matches n rows, but n cols is only a max and will not be completely filled.\n",
    "    item_a = np.empty((tot_items + 1, tot_items + 1))\n",
    "    item_a[:] = np.nan\n",
    "    \n",
    "    row = 0\n",
    "    depth = 0\n",
    "    for dir_path, dir_names, filenames in os.walk(start_path):\n",
    "        item_a[row, depth] = os.path.basename(dir_path)"
   ]
  },
  {
   "cell_type": "code",
   "execution_count": 2,
   "metadata": {},
   "outputs": [],
   "source": [
    "def list_dir(start_path):\n",
    "    dir_depth = 1\n",
    "    dir_list = os.listdir(start_path)\n",
    "    for item in dir_list:\n",
    "        item_path = os.join(start_path, item)\n",
    "        if os.isdir(item_path)"
   ]
  }
 ],
 "metadata": {
  "kernelspec": {
   "display_name": "Python 3",
   "language": "python",
   "name": "python3"
  },
  "language_info": {
   "codemirror_mode": {
    "name": "ipython",
    "version": 3
   },
   "file_extension": ".py",
   "mimetype": "text/x-python",
   "name": "python",
   "nbconvert_exporter": "python",
   "pygments_lexer": "ipython3",
   "version": "3.8.3"
  }
 },
 "nbformat": 4,
 "nbformat_minor": 4
}
