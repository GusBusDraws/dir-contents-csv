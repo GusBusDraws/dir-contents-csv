{
 "cells": [
  {
   "cell_type": "code",
   "execution_count": 1,
   "metadata": {},
   "outputs": [],
   "source": [
    "import os\n",
    "\n",
    "import numpy as np\n",
    "import pandas as pd"
   ]
  },
  {
   "cell_type": "code",
   "execution_count": null,
   "metadata": {},
   "outputs": [],
   "source": [
    "def get_dir_size(start_path, units='bytes'):\n",
    "    total_size = 0\n",
    "    for dir_path, dir_names, filenames in os.walk(start_path):\n",
    "        for fn in filenames:\n",
    "            fn_path = os.path.join(dir_path, fn)\n",
    "            total_size += os.path.getsize(fn_path)\n",
    "            \n",
    "    if units.lower() == 'bytes' or units.lower() == 'b':\n",
    "        return total_size\n",
    "    elif units.lower() == 'kilobytes' or units.lower() == 'kb':\n",
    "        return total_size / 1024\n",
    "    elif units.lower() == 'megabytes' or units.lower() == 'mb':\n",
    "        return total_size / 1024 / 1024\n",
    "    elif units.lower() == 'gigabytes' or units.lower() == 'gb':\n",
    "        return total_size / 1024 / 1024 / 1024"
   ]
  },
  {
   "cell_type": "code",
   "execution_count": 31,
   "metadata": {},
   "outputs": [],
   "source": [
    "def list_all_files(start_path):\n",
    "    tot_items = 0\n",
    "    for depth, (dir_path, dir_names, filenames) in enumerate(os.walk(start_path)):\n",
    "        print()\n",
    "        print(depth)\n",
    "        print(dir_path)\n",
    "        print(dir_names)\n",
    "        print(filenames)\n",
    "        tot_items += len(dir_names) + len(filenames)\n",
    "    \n",
    "    print()\n",
    "    print(f'Total items: {tot_items}')"
   ]
  },
  {
   "cell_type": "code",
   "execution_count": 32,
   "metadata": {},
   "outputs": [
    {
     "name": "stdout",
     "output_type": "stream",
     "text": [
      "\n",
      "0\n",
      "..\\test-dir-00\n",
      "['test-dir-01', 'test-dir-02']\n",
      "['blank-00.txt', 'blank-01.txt']\n",
      "\n",
      "1\n",
      "..\\test-dir-00\\test-dir-01\n",
      "[]\n",
      "['blank-02.txt', 'blank-03.txt']\n",
      "\n",
      "2\n",
      "..\\test-dir-00\\test-dir-02\n",
      "['test-dir-03']\n",
      "['blank-04.txt', 'blank-05.txt', 'blank-06.txt']\n",
      "\n",
      "3\n",
      "..\\test-dir-00\\test-dir-02\\test-dir-03\n",
      "[]\n",
      "['blank-07.txt']\n",
      "\n",
      "Total items: 11\n"
     ]
    }
   ],
   "source": [
    "list_all_files(r'..\\test-dir-00')"
   ]
  },
  {
   "cell_type": "code",
   "execution_count": 33,
   "metadata": {},
   "outputs": [],
   "source": [
    "def make_item_dict(start_path):\n",
    "    \n",
    "    depth = 0\n",
    "    file_dict = {}\n",
    "    dir_dict = {}\n",
    "    dir_dict[depth] = [start_path]\n",
    "    tot_items = 0\n",
    "    for dir_path, dir_names, filenames in os.walk(start_path):\n",
    "        depth += 1\n",
    "        dir_dict[depth] = dir_names\n",
    "        file_dict[depth] = filenames\n",
    "        tot_items += len(dir_names) + len(filenames)\n",
    "        \n",
    "    return dir_dict, file_dict"
   ]
  },
  {
   "cell_type": "code",
   "execution_count": 22,
   "metadata": {},
   "outputs": [
    {
     "name": "stdout",
     "output_type": "stream",
     "text": [
      "dir_dict:\n",
      "{0: ['..\\\\test-dir-00'], 1: ['test-dir-01', 'test-dir-02'], 2: [], 3: ['test-dir-03'], 4: []}\n",
      "file_dict:\n",
      "{1: ['blank-00.txt', 'blank-01.txt'], 2: ['blank-02.txt', 'blank-03.txt'], 3: ['blank-04.txt', 'blank-05.txt', 'blank-06.txt'], 4: ['blank-07.txt']}\n"
     ]
    }
   ],
   "source": [
    "dir_dict, file_dict = make_item_dict(r'..\\test-dir-00')\n",
    "\n",
    "print('dir_dict:')\n",
    "print(dir_dict)\n",
    "print('file_dict:')\n",
    "print(file_dict)"
   ]
  },
  {
   "cell_type": "code",
   "execution_count": 23,
   "metadata": {},
   "outputs": [
    {
     "name": "stdout",
     "output_type": "stream",
     "text": [
      "True\n"
     ]
    }
   ],
   "source": [
    "print(len(dir_dict[4]) == 0)"
   ]
  },
  {
   "cell_type": "code",
   "execution_count": 15,
   "metadata": {},
   "outputs": [
    {
     "name": "stdout",
     "output_type": "stream",
     "text": [
      "[[nan nan nan]\n",
      " [nan nan nan]\n",
      " [nan nan nan]]\n"
     ]
    }
   ],
   "source": [
    "a = np.empty((3, 3))\n",
    "a[:] = np.nan\n",
    "print(a)"
   ]
  },
  {
   "cell_type": "code",
   "execution_count": 25,
   "metadata": {},
   "outputs": [
    {
     "name": "stdout",
     "output_type": "stream",
     "text": [
      "\n",
      "..\\test-dir-00\n",
      "['test-dir-01', 'test-dir-02']\n",
      "['blank-00.txt', 'blank-01.txt']\n",
      "\n",
      "..\\test-dir-00\\test-dir-01\n",
      "[]\n",
      "['blank-02.txt', 'blank-03.txt']\n",
      "\n",
      "..\\test-dir-00\\test-dir-02\n",
      "['test-dir-03']\n",
      "['blank-04.txt', 'blank-05.txt', 'blank-06.txt']\n",
      "\n",
      "..\\test-dir-00\\test-dir-02\\test-dir-03\n",
      "[]\n",
      "['blank-07.txt']\n",
      "\n",
      "Total items: 11\n"
     ]
    }
   ],
   "source": [
    "list_all_files(r'..\\test-dir-00')"
   ]
  },
  {
   "cell_type": "code",
   "execution_count": null,
   "metadata": {},
   "outputs": [],
   "source": [
    "def make_item_array(start_path):\n",
    "    \n",
    "    depth = 0\n",
    "    file_dict = {}\n",
    "    dir_dict = {}\n",
    "    dir_dict{depth} = [start_path]\n",
    "    tot_items = 0\n",
    "    for dir_path, dir_names, filenames in os.walk(start_path):\n",
    "        depth += 1\n",
    "        dir_dict{depth} = [dir_names]\n",
    "        file_dict{depth} = [filenames]\n",
    "        tot_items += len(dir_names) + len(filenames)\n",
    "\n",
    "    # Array size accurately matches n rows, but n cols is only a max and will not be completely filled.\n",
    "    item_a = np.empty((tot_items + 1, tot_items + 1))\n",
    "    item_a[:] = np.nan\n",
    "    \n",
    "    depth = 0\n",
    "    for row in range(item_a.shape[0]):\n",
    "        if len(dir_dict[depth]) != 0:\n",
    "            item_a[row, depth] = dir_dict[depth]\n",
    "            depth += 1\n",
    "        else:\n",
    "            for fn in file_dict[depth]:\n",
    "                "
   ]
  },
  {
   "cell_type": "code",
   "execution_count": null,
   "metadata": {},
   "outputs": [],
   "source": [
    "def list_dir(start_path):\n",
    "    dir_depth = 1\n",
    "    dir_list = os.listdir(start_path)\n",
    "    for item in dir_list:\n",
    "        item_path = os.join(start_path, item)\n",
    "        if os.isdir(item_path)"
   ]
  }
 ],
 "metadata": {
  "kernelspec": {
   "display_name": "Python 3",
   "language": "python",
   "name": "python3"
  },
  "language_info": {
   "codemirror_mode": {
    "name": "ipython",
    "version": 3
   },
   "file_extension": ".py",
   "mimetype": "text/x-python",
   "name": "python",
   "nbconvert_exporter": "python",
   "pygments_lexer": "ipython3",
   "version": "3.7.6"
  }
 },
 "nbformat": 4,
 "nbformat_minor": 4
}
