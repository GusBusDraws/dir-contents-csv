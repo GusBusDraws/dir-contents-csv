{
 "cells": [
  {
   "cell_type": "markdown",
   "metadata": {},
   "source": [
    "# Instructions to build a CSV for the Radiography Drive:\n",
    "1. Edit the variable in the cell below  (`RAD_DRIVE_PATH`) which holds the path to `\\\\orebits2.mines.edu\\Clarke_Solidification\\Radiography Drive`. If the path is different on your machine (it's possible that the Clarke_Solidifcation is mapped to the 'X:' drive on your machine as well), make sure the path remains in **closed** quotes with a leading `r` after editing.)\n",
    "2. Restart the Kernel and run all the cells in order through the Kernel dropdown menu: Kernel > Restart & Run All\n",
    "3. When prompted, confirm the restart with the red \"Restart and Run All Cells' button."
   ]
  },
  {
   "cell_type": "markdown",
   "metadata": {},
   "source": [
    "# Path to Radiography Drive:"
   ]
  },
  {
   "cell_type": "code",
   "execution_count": null,
   "metadata": {},
   "outputs": [],
   "source": [
    "RAD_DRIVE_PATH = r'X:\\Radiography Drive'"
   ]
  },
  {
   "cell_type": "markdown",
   "metadata": {},
   "source": [
    "# Make necessary package imports"
   ]
  },
  {
   "cell_type": "code",
   "execution_count": null,
   "metadata": {},
   "outputs": [],
   "source": [
    "# Include so all modules are re-imported before any cell is executed. \n",
    "# This is so custom modules do not have to be manually reloaded if changed.\n",
    "%load_ext autoreload\n",
    "%autoreload 2\n",
    "\n",
    "# Import standard packaged\n",
    "import os\n",
    "import sys\n",
    "\n",
    "# Import third party packages\n",
    "from datetime import datetime\n",
    "\n",
    "# Add parent directory to locations checked for custom modules \n",
    "# (necessary for Jupyter Notebook sessions that are not started in the parent directory)\n",
    "module_path = os.path.abspath(os.path.join('..'))\n",
    "if module_path not in sys.path:\n",
    "    sys.path.append(module_path)\n",
    "    \n",
    "# Import custom packages\n",
    "from src import dir_funcs"
   ]
  },
  {
   "cell_type": "markdown",
   "metadata": {},
   "source": [
    "# Run functions to build CSV\n",
    "Makes a timestamp, generates a save path with that timestamp within the Radiography Drive, calls the function that will build a CSV file that respresents the contents and structures of the directories with the Radiography Drive, and prints 'Done.' along with the execution time (in seconds) upon completion."
   ]
  },
  {
   "cell_type": "code",
   "execution_count": null,
   "metadata": {},
   "outputs": [],
   "source": [
    "time_0 = datetime.now()\n",
    "timestamp = time_0.strftime('%Y-%m-%d-%H%M')\n",
    "save_path = os.path.join(RAD_DRIVE_PATH, f'rad-drive-dirs-only-{timestamp}.csv')\n",
    "\n",
    "dir_funcs.get_dir_df(RAD_DRIVE_PATH, \n",
    "                     dirs_only=True, \n",
    "                     csv_save_path=save_path)\n",
    "\n",
    "time_1 = datetime.now()\n",
    "time_diff = time_1 - time_0\n",
    "print()\n",
    "print(f'Done. Execution time: {time_diff.total_seconds()} s')"
   ]
  },
  {
   "cell_type": "code",
   "execution_count": null,
   "metadata": {},
   "outputs": [],
   "source": []
  }
 ],
 "metadata": {
  "kernelspec": {
   "display_name": "Python 3",
   "language": "python",
   "name": "python3"
  },
  "language_info": {
   "codemirror_mode": {
    "name": "ipython",
    "version": 3
   },
   "file_extension": ".py",
   "mimetype": "text/x-python",
   "name": "python",
   "nbconvert_exporter": "python",
   "pygments_lexer": "ipython3",
   "version": "3.8.3"
  }
 },
 "nbformat": 4,
 "nbformat_minor": 4
}
